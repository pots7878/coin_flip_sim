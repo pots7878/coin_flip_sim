{
 "cells": [
  {
   "cell_type": "code",
   "execution_count": 2,
   "metadata": {},
   "outputs": [],
   "source": [
    "\"\"\"\n",
    "This program inferes the probability of heads in a coin tossing \n",
    "experiment. Arguments are iterations, number of heads, total \n",
    "number of trials, delta for prior.\n",
    "\"\"\"\n",
    "\n",
    "#import external modules \n",
    "%matplotlib inline \n",
    "import sys\n",
    "import random\n",
    "import math \n",
    "import matplotlib.pyplot as plt "
   ]
  },
  {
   "cell_type": "code",
   "execution_count": 3,
   "metadata": {},
   "outputs": [],
   "source": [
    "def logbeta(a, b):\n",
    "    return math.lgamma(a) + math.lgamma(b) - math.lgamma(a + b)"
   ]
  },
  {
   "cell_type": "code",
   "execution_count": 4,
   "metadata": {},
   "outputs": [],
   "source": [
    "def prior(x, a, b):\n",
    "    return math.log(x) * (a - 1.0) + math.log(1.0 - x) * (b - 1.0) - logbeta(a, b)"
   ]
  },
  {
   "cell_type": "code",
   "execution_count": 5,
   "metadata": {},
   "outputs": [],
   "source": [
    "def proposal(theta, delta):\n",
    "    \"\"\"\n",
    "    Delivers a value from a window around the old theta value, the window size \n",
    "    \"\"\"\n",
    "    \n",
    "    lower = theta - delta\n",
    "    upper = theta + delta\n",
    "    \n",
    "    #if 0.0 iis a then this is lower = 2a - lower\n",
    "    if lower < 0.0:\n",
    "        lower -= lower\n",
    "    if upper > 1.0:\n",
    "        upper = 2.0 - upper\n",
    "        \n",
    "    newtheta = random.uniform(lower, upper)\n",
    "    #print(\"prop\", newtheta)\n",
    "    \n",
    "    return newtheta"
   ]
  },
  {
   "cell_type": "code",
   "execution_count": 6,
   "metadata": {},
   "outputs": [],
   "source": [
    "def likelihood(theta, heads, total):\n",
    "    return math.log(theta) * heads + math.log(1.0 - theta) * (total - heads)"
   ]
  },
  {
   "cell_type": "code",
   "execution_count": 7,
   "metadata": {},
   "outputs": [],
   "source": [
    "def compare(likenew, likeold, priornew, priorold):\n",
    "    r = math.log(random.uniform(0.0, 1.0))\n",
    "    a = likenew - likeold\n",
    "    x = r < a\n",
    "    #print(a)\n",
    "    return x "
   ]
  },
  {
   "cell_type": "code",
   "execution_count": 24,
   "metadata": {},
   "outputs": [],
   "source": [
    "def mcmc(iter, delta, heads, total):\n",
    "    results = []\n",
    "    thetaold = 0.5 \n",
    "    likeold = -1000000000.0\n",
    "    i = 0\n",
    "    while(i < iter):\n",
    "        i += 1 \n",
    "        theta = proposal(thetaold, delta)\n",
    "        likenew = prior(theta, 1, 1) + likelihood(theta, heads, total)\n",
    "        #print(likenew, likeold)\n",
    "        if(compare(likenew, likeold, 1.0, 1.0)):\n",
    "            results.append(theta)\n",
    "            thetaold = theta\n",
    "            likeold = likenew\n",
    "        else:\n",
    "            results.append(thetaold)\n",
    "    return results"
   ]
  },
  {
   "cell_type": "code",
   "execution_count": 25,
   "metadata": {},
   "outputs": [],
   "source": [
    "def run(iterations, delta, heads, total):\n",
    "    results = mcmc(iterations, delta, heads, total)\n",
    "    fig = plt.figure()\n",
    "    ax = fig.add_subplot(111)\n",
    "    n, bins, patches = ax.hist(results, 50, density=True, facecolor='green', alpha=0.75)\n",
    "    ax.set_xlim(0, 1)\n",
    "    ax.grid(True)\n",
    "    ax.set_xlabel('Probability of heads')\n",
    "    ax.set_ylabel('Posterior')"
   ]
  },
  {
   "cell_type": "code",
   "execution_count": 33,
   "metadata": {},
   "outputs": [
    {
     "data": {
      "image/png": "[encoded data removed]",
      "text/plain": [
       "<Figure size 432x288 with 1 Axes>"
      ]
     },
     "metadata": {
      "needs_background": "light"
     },
     "output_type": "display_data"
    }
   ],
   "source": [
    "#saw 50 heads on 100 trials \n",
    "run(100000, 0.1, 5, 10)"
   ]
  },
  {
   "cell_type": "code",
   "execution_count": null,
   "metadata": {},
   "outputs": [],
   "source": [
    "\"\"\"\n",
    "The larger the distribution of the histogram, the more uncertainty. \n",
    "If there are more trials, and thus more heads, then the model will be very certain.\n",
    "In this experiment, the pior is dominating the results. The stronger the prior, \n",
    "the more certain the model, even when the number of heads and trials are the same.\n",
    "If the data isnt strong, the prior will mess up the results of the experiment. \n",
    "\"\"\""
   ]
  }
 ],
 "metadata": {
  "kernelspec": {
   "display_name": "Python 3",
   "language": "python",
   "name": "python3"
  },
  "language_info": {
   "codemirror_mode": {
    "name": "ipython",
    "version": 3
   },
   "file_extension": ".py",
   "mimetype": "text/x-python",
   "name": "python",
   "nbconvert_exporter": "python",
   "pygments_lexer": "ipython3",
   "version": "3.7.4"
  }
 },
 "nbformat": 4,
 "nbformat_minor": 2
}
