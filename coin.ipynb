{
 "cells": [
  {
   "cell_type": "code",
   "execution_count": 3,
   "metadata": {},
   "outputs": [],
   "source": [
    "\"\"\"\n",
    "This program inferes the probability of heads in a coin tossing \n",
    "experiment. Arguments are iterations, number of heads, total \n",
    "number of trials, delta for prior.\n",
    "\"\"\"\n",
    "\n",
    "#import external modules \n",
    "%matplotlib inline \n",
    "import sys\n",
    "import random\n",
    "import math \n",
    "import matplotlib.pyplot as plt "
   ]
  },
  {
   "cell_type": "code",
   "execution_count": 4,
   "metadata": {},
   "outputs": [],
   "source": [
    "def logbeta(a, b):\n",
    "    return math.lgamma(a) + math.lgamma(b) - math.lgamma(a + b)"
   ]
  },
  {
   "cell_type": "code",
   "execution_count": 5,
   "metadata": {},
   "outputs": [],
   "source": [
    "def prior(x, a, b):\n",
    "    return math.log(x) * (a - 1.0) + math.log(1.0 - x) * (b - 1.0) - logbeta(a, b)"
   ]
  },
  {
   "cell_type": "code",
   "execution_count": 15,
   "metadata": {},
   "outputs": [],
   "source": [
    "def proposal(theta, delta):\n",
    "    \"\"\"\n",
    "    Delivers a value from a window around the old theta value, the window size \n",
    "    \"\"\"\n",
    "    \n",
    "    lower = theta - delta\n",
    "    upper = theta + delta\n",
    "    \n",
    "    #if 0.0 iis a then this is lower = 2a - lower\n",
    "    if lower < 0.0:\n",
    "        lower -= lower\n",
    "    if upper > 1.0:\n",
    "        upper = 2.0 - upper\n",
    "        \n",
    "    newtheta = random.uniform(lower, upper)\n",
    "    #print(\"prop\", newtheta)\n",
    "    \n",
    "    return newtheta"
   ]
  },
  {
   "cell_type": "code",
   "execution_count": 16,
   "metadata": {},
   "outputs": [],
   "source": [
    "def likelihood(theta, heads, total):\n",
    "    return math.log(theta) * heads + math.log(1.0 - theta) * (total - heads)"
   ]
  },
  {
   "cell_type": "code",
   "execution_count": 17,
   "metadata": {},
   "outputs": [],
   "source": [
    "def compare(likenew, likeold, priornew, priorold):\n",
    "    r = math.log(random.uniform(0.0, 1.0))\n",
    "    a = likenew - likeold\n",
    "    x = r < a\n",
    "    #print(a)\n",
    "    return x "
   ]
  },
  {
   "cell_type": "code",
   "execution_count": 18,
   "metadata": {},
   "outputs": [],
   "source": [
    "def mcmc(iter, delta, heads, total):\n",
    "    results = []\n",
    "    thetaold = 0.5 \n",
    "    likeold = -1000000000.0\n",
    "    i = 0\n",
    "    while(i < iter):\n",
    "        i += 1 \n",
    "        theta = proposal(thetaold, delta)\n",
    "        likenew = prior(theta, 1, 1) + likelihood(theta, heads, total)\n",
    "        #print(likenew, likeold)\n",
    "        if(compare(likenew, likeold, 1.0, 1.0)):\n",
    "            results.append(theta)\n",
    "            thetaold = theta\n",
    "            likeold = likenew\n",
    "        else:\n",
    "            results.append(thetaold)\n",
    "    return results"
   ]
  },
  {
   "cell_type": "code",
   "execution_count": 21,
   "metadata": {},
   "outputs": [],
   "source": [
    "def run(iterations, delta, heads, total):\n",
    "    results = mcmc(iterations, delta, heads, total)\n",
    "    fig = plt.figure()\n",
    "    ax = fig.add_subplot(111)\n",
    "    n, bins, patches = ax.hist(results, 50, density=True, facecolor='green', alpha=0.75)\n",
    "    ax.set_xlim(0, 1)\n",
    "    ax.grid(True)\n",
    "    ax.set_xlabel('Probability of heads')\n",
    "    ax.set_ylabel('Posterior')"
   ]
  },
  {
   "cell_type": "code",
   "execution_count": 22,
   "metadata": {},
   "outputs": [
    {
     "data": {
      "image/png": "[encoded data removed]",
      "text/plain": [
       "<Figure size 432x288 with 1 Axes>"
      ]
     },
     "metadata": {
      "needs_background": "light"
     },
     "output_type": "display_data"
    }
   ],
   "source": [
    "run(10000, 0.1, 50, 100)"
   ]
  },
  {
   "cell_type": "code",
   "execution_count": null,
   "metadata": {},
   "outputs": [],
   "source": []
  }
 ],
 "metadata": {
  "kernelspec": {
   "display_name": "Python 3",
   "language": "python",
   "name": "python3"
  },
  "language_info": {
   "codemirror_mode": {
    "name": "ipython",
    "version": 3
   },
   "file_extension": ".py",
   "mimetype": "text/x-python",
   "name": "python",
   "nbconvert_exporter": "python",
   "pygments_lexer": "ipython3",
   "version": "3.7.4"
  }
 },
 "nbformat": 4,
 "nbformat_minor": 2
}
